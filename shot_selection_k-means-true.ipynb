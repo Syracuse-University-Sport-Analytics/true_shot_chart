{
 "cells": [
  {
   "cell_type": "code",
   "execution_count": 1,
   "metadata": {},
   "outputs": [],
   "source": [
    "import math\n",
    "import numpy as np\n",
    "import pandas as pd\n",
    "from sklearn.model_selection import train_test_split\n",
    "from plotly.subplots import make_subplots\n",
    "import plotly.graph_objects as go\n",
    "from IPython.core.interactiveshell import InteractiveShell\n",
    "InteractiveShell.ast_node_interactivity = \"all\"\n",
    "import pandas as pd\n",
    "import numpy as np\n",
    "import os\n",
    "import math\n",
    "import matplotlib.pyplot as plt\n",
    "from kneed import KneeLocator\n",
    "from sklearn.datasets import make_blobs\n",
    "from sklearn.cluster import KMeans\n",
    "from sklearn.metrics import silhouette_score\n",
    "from sklearn.preprocessing import StandardScaler\n",
    "\n",
    "low_memory=False\n",
    "%config Completer.use_jedi = False\n",
    "\n",
    "DATA_LOCATION = \"data/combined/\"\n"
   ]
  },
  {
   "cell_type": "code",
   "execution_count": 2,
   "metadata": {
    "collapsed": false,
    "jupyter": {
     "outputs_hidden": false
    },
    "pycharm": {
     "name": "#%%\n"
    }
   },
   "outputs": [
    {
     "data": {
      "text/html": [
       "<div>\n",
       "<style scoped>\n",
       "    .dataframe tbody tr th:only-of-type {\n",
       "        vertical-align: middle;\n",
       "    }\n",
       "\n",
       "    .dataframe tbody tr th {\n",
       "        vertical-align: top;\n",
       "    }\n",
       "\n",
       "    .dataframe thead th {\n",
       "        text-align: right;\n",
       "    }\n",
       "</style>\n",
       "<table border=\"1\" class=\"dataframe\">\n",
       "  <thead>\n",
       "    <tr style=\"text-align: right;\">\n",
       "      <th></th>\n",
       "      <th>x_court_bin</th>\n",
       "      <th>y_court_bin</th>\n",
       "      <th>estimated_points</th>\n",
       "      <th>estimated_shot_attempts</th>\n",
       "      <th>true_expected_points</th>\n",
       "    </tr>\n",
       "  </thead>\n",
       "  <tbody>\n",
       "    <tr>\n",
       "      <th>0</th>\n",
       "      <td>-250.0</td>\n",
       "      <td>-17.320508</td>\n",
       "      <td>340.889784</td>\n",
       "      <td>261.750000</td>\n",
       "      <td>1.302349</td>\n",
       "    </tr>\n",
       "    <tr>\n",
       "      <th>1</th>\n",
       "      <td>-250.0</td>\n",
       "      <td>17.320508</td>\n",
       "      <td>396.000000</td>\n",
       "      <td>377.000000</td>\n",
       "      <td>1.050398</td>\n",
       "    </tr>\n",
       "    <tr>\n",
       "      <th>2</th>\n",
       "      <td>-250.0</td>\n",
       "      <td>51.961524</td>\n",
       "      <td>179.185825</td>\n",
       "      <td>155.051282</td>\n",
       "      <td>1.155655</td>\n",
       "    </tr>\n",
       "    <tr>\n",
       "      <th>3</th>\n",
       "      <td>-250.0</td>\n",
       "      <td>86.602540</td>\n",
       "      <td>75.000000</td>\n",
       "      <td>60.000000</td>\n",
       "      <td>1.250000</td>\n",
       "    </tr>\n",
       "    <tr>\n",
       "      <th>4</th>\n",
       "      <td>-250.0</td>\n",
       "      <td>121.243557</td>\n",
       "      <td>9.000000</td>\n",
       "      <td>11.000000</td>\n",
       "      <td>0.818182</td>\n",
       "    </tr>\n",
       "    <tr>\n",
       "      <th>...</th>\n",
       "      <td>...</td>\n",
       "      <td>...</td>\n",
       "      <td>...</td>\n",
       "      <td>...</td>\n",
       "      <td>...</td>\n",
       "    </tr>\n",
       "    <tr>\n",
       "      <th>680</th>\n",
       "      <td>250.0</td>\n",
       "      <td>398.371686</td>\n",
       "      <td>0.000000</td>\n",
       "      <td>1.000000</td>\n",
       "      <td>0.000000</td>\n",
       "    </tr>\n",
       "    <tr>\n",
       "      <th>681</th>\n",
       "      <td>260.0</td>\n",
       "      <td>-34.641016</td>\n",
       "      <td>0.000000</td>\n",
       "      <td>1.000000</td>\n",
       "      <td>0.000000</td>\n",
       "    </tr>\n",
       "    <tr>\n",
       "      <th>682</th>\n",
       "      <td>260.0</td>\n",
       "      <td>0.000000</td>\n",
       "      <td>18.000000</td>\n",
       "      <td>19.000000</td>\n",
       "      <td>0.947368</td>\n",
       "    </tr>\n",
       "    <tr>\n",
       "      <th>683</th>\n",
       "      <td>260.0</td>\n",
       "      <td>34.641016</td>\n",
       "      <td>3.000000</td>\n",
       "      <td>2.000000</td>\n",
       "      <td>1.500000</td>\n",
       "    </tr>\n",
       "    <tr>\n",
       "      <th>684</th>\n",
       "      <td>260.0</td>\n",
       "      <td>103.923048</td>\n",
       "      <td>0.000000</td>\n",
       "      <td>1.000000</td>\n",
       "      <td>0.000000</td>\n",
       "    </tr>\n",
       "  </tbody>\n",
       "</table>\n",
       "<p>685 rows × 5 columns</p>\n",
       "</div>"
      ],
      "text/plain": [
       "     x_court_bin  y_court_bin  estimated_points  estimated_shot_attempts  \\\n",
       "0         -250.0   -17.320508        340.889784               261.750000   \n",
       "1         -250.0    17.320508        396.000000               377.000000   \n",
       "2         -250.0    51.961524        179.185825               155.051282   \n",
       "3         -250.0    86.602540         75.000000                60.000000   \n",
       "4         -250.0   121.243557          9.000000                11.000000   \n",
       "..           ...          ...               ...                      ...   \n",
       "680        250.0   398.371686          0.000000                 1.000000   \n",
       "681        260.0   -34.641016          0.000000                 1.000000   \n",
       "682        260.0     0.000000         18.000000                19.000000   \n",
       "683        260.0    34.641016          3.000000                 2.000000   \n",
       "684        260.0   103.923048          0.000000                 1.000000   \n",
       "\n",
       "     true_expected_points  \n",
       "0                1.302349  \n",
       "1                1.050398  \n",
       "2                1.155655  \n",
       "3                1.250000  \n",
       "4                0.818182  \n",
       "..                    ...  \n",
       "680              0.000000  \n",
       "681              0.000000  \n",
       "682              0.947368  \n",
       "683              1.500000  \n",
       "684              0.000000  \n",
       "\n",
       "[685 rows x 5 columns]"
      ]
     },
     "execution_count": 2,
     "metadata": {},
     "output_type": "execute_result"
    }
   ],
   "source": [
    "#https://towardsdatascience.com/keras-101-a-simple-and-interpretable-neural-network-model-for-house-pricing-regression-31b1a77f05ae\n",
    "\n",
    "play_by_play_season_game_team_bins = pd.read_csv(\"cleanedData/play_by_play_season_game_team_bins.csv\")\n",
    "\n",
    "play_by_play_season_bins = pd.read_csv(\"cleanedData/play_by_play_season_bins.csv\")\n",
    "play_by_play_season_bins_copy = play_by_play_season_bins.fillna(0).copy()\n",
    "play_by_play_season_bins_copy = play_by_play_season_bins_copy[['x_court_bin','y_court_bin','estimated_points','estimated_shot_attempts']].groupby(['x_court_bin','y_court_bin']).sum().reset_index()\n",
    "play_by_play_season_bins_copy['true_expected_points'] = play_by_play_season_bins_copy['estimated_points']/play_by_play_season_bins_copy['estimated_shot_attempts']\n",
    "play_by_play_season_bins_copy"
   ]
  },
  {
   "cell_type": "code",
   "execution_count": 3,
   "metadata": {
    "collapsed": false,
    "jupyter": {
     "outputs_hidden": false
    },
    "pycharm": {
     "name": "#%%\n"
    }
   },
   "outputs": [
    {
     "data": {
      "text/plain": [
       "array([[-1.74907918, -1.42701304,  1.39276064],\n",
       "       [-1.74907918, -1.17665987,  0.75889859],\n",
       "       [-1.74907918, -0.92630671,  1.02370674],\n",
       "       ...,\n",
       "       [ 1.79915154, -1.30183646,  0.49969543],\n",
       "       [ 1.79915154, -1.05148329,  1.89001485],\n",
       "       [ 1.79915154, -0.55077696, -1.88370931]])"
      ]
     },
     "execution_count": 3,
     "metadata": {},
     "output_type": "execute_result"
    }
   ],
   "source": [
    "features = play_by_play_season_bins_copy[['x_court_bin','y_court_bin','true_expected_points']]\n",
    "#features = play_by_play_season_bins_copy[['expected_points']]\n",
    "scaler = StandardScaler()\n",
    "scaled_features = scaler.fit_transform(features)\n",
    "scaled_features"
   ]
  },
  {
   "cell_type": "code",
   "execution_count": 4,
   "metadata": {
    "collapsed": false,
    "jupyter": {
     "outputs_hidden": false
    },
    "pycharm": {
     "name": "#%%\n"
    }
   },
   "outputs": [
    {
     "data": {
      "text/plain": [
       "KMeans(init='random', n_clusters=3, random_state=42)"
      ]
     },
     "execution_count": 4,
     "metadata": {},
     "output_type": "execute_result"
    },
    {
     "data": {
      "text/plain": [
       "862.1190187121078"
      ]
     },
     "execution_count": 4,
     "metadata": {},
     "output_type": "execute_result"
    },
    {
     "data": {
      "text/plain": [
       "array([0, 0, 0, 0, 0, 2, 0, 0, 0, 0, 0, 0, 0, 0, 2, 2, 2, 0, 0, 0, 0, 0,\n",
       "       0, 0, 0, 0, 0, 2, 2, 2, 0, 0, 0, 0, 0, 0, 0, 0, 0, 0, 2, 2, 2, 2,\n",
       "       0, 0, 0, 0, 0, 0, 0, 0, 2, 0, 2, 2, 2, 0, 0, 0, 0, 0, 0, 0, 0, 0,\n",
       "       2, 2, 0, 2, 2, 0, 0, 0, 0, 0, 0, 0, 0, 0, 0, 2, 2, 2, 2, 0, 0, 0,\n",
       "       0, 0, 0, 0, 0, 0, 0, 2, 2, 2, 2, 0, 0, 0, 0, 0, 0, 0, 0, 0, 0, 2,\n",
       "       2, 2, 2, 0, 0, 0, 0, 0, 0, 0, 0, 0, 0, 2, 2, 2, 2, 0, 0, 0, 0, 0,\n",
       "       0, 0, 0, 0, 0, 0, 2, 2, 2, 0, 0, 0, 0, 0, 0, 0, 0, 0, 0, 2, 2, 2,\n",
       "       2, 0, 0, 0, 0, 0, 0, 0, 0, 0, 0, 0, 2, 2, 2, 0, 0, 0, 0, 0, 0, 0,\n",
       "       0, 0, 0, 2, 2, 2, 2, 0, 0, 0, 0, 0, 0, 0, 0, 0, 0, 2, 2, 2, 2, 0,\n",
       "       0, 0, 0, 0, 0, 0, 0, 0, 0, 0, 2, 2, 2, 0, 0, 0, 0, 0, 0, 0, 0, 0,\n",
       "       0, 2, 2, 2, 0, 0, 0, 0, 0, 0, 0, 0, 0, 0, 0, 2, 2, 2, 0, 0, 0, 0,\n",
       "       0, 0, 0, 0, 0, 2, 2, 2, 2, 0, 0, 0, 0, 0, 0, 0, 0, 0, 0, 2, 2, 2,\n",
       "       2, 0, 0, 0, 0, 0, 0, 0, 0, 0, 0, 2, 2, 2, 0, 0, 0, 0, 0, 0, 0, 0,\n",
       "       0, 0, 2, 2, 2, 2, 1, 0, 0, 0, 0, 0, 0, 0, 0, 0, 0, 2, 2, 2, 0, 0,\n",
       "       0, 0, 0, 0, 0, 0, 0, 0, 0, 2, 2, 2, 0, 0, 0, 0, 0, 0, 0, 0, 0, 0,\n",
       "       0, 2, 2, 0, 0, 0, 0, 0, 0, 0, 0, 0, 0, 2, 2, 2, 2, 1, 0, 0, 1, 1,\n",
       "       1, 1, 1, 1, 0, 1, 2, 2, 2, 0, 0, 1, 1, 1, 1, 1, 1, 1, 1, 2, 2, 2,\n",
       "       2, 1, 1, 1, 1, 1, 1, 1, 1, 1, 1, 1, 2, 2, 2, 1, 1, 1, 1, 1, 1, 1,\n",
       "       1, 1, 1, 2, 2, 2, 2, 1, 1, 1, 1, 1, 1, 1, 1, 1, 1, 1, 2, 2, 1, 1,\n",
       "       1, 1, 1, 1, 1, 1, 1, 1, 1, 2, 2, 2, 1, 1, 1, 1, 1, 1, 1, 1, 1, 1,\n",
       "       1, 2, 2, 2, 1, 1, 1, 1, 1, 1, 1, 1, 1, 1, 1, 2, 2, 2, 1, 1, 1, 1,\n",
       "       1, 1, 1, 1, 1, 1, 2, 2, 2, 1, 1, 1, 1, 1, 1, 1, 1, 1, 1, 2, 2, 2,\n",
       "       2, 1, 1, 1, 1, 1, 1, 1, 1, 1, 1, 1, 2, 2, 2, 1, 1, 1, 1, 1, 1, 1,\n",
       "       1, 1, 1, 2, 2, 2, 2, 1, 1, 1, 1, 1, 1, 1, 1, 1, 1, 1, 2, 2, 2, 1,\n",
       "       1, 1, 1, 1, 1, 1, 1, 1, 1, 2, 2, 2, 2, 1, 1, 1, 1, 1, 1, 1, 1, 1,\n",
       "       1, 1, 2, 2, 2, 1, 1, 1, 1, 1, 1, 1, 1, 1, 1, 1, 2, 2, 2, 1, 1, 1,\n",
       "       1, 1, 1, 1, 1, 1, 1, 2, 2, 2, 2, 1, 1, 1, 1, 1, 1, 1, 1, 1, 1, 1,\n",
       "       2, 2, 2, 1, 1, 1, 1, 1, 1, 1, 1, 1, 1, 2, 2, 2, 1, 1, 1, 1, 1, 1,\n",
       "       1, 1, 1, 2, 1, 2, 2, 2, 1, 1, 1, 1, 1, 1, 1, 1, 1, 1, 2, 2, 2, 1,\n",
       "       1, 1, 1, 1, 1, 1, 1, 1, 1, 1, 2, 2, 2, 1, 1, 1, 1, 1, 1, 1, 1, 1,\n",
       "       2, 2, 2, 1, 1, 1, 1, 1, 1, 1, 2, 1, 2, 1, 1, 1, 1, 1, 1, 1, 2, 1,\n",
       "       1, 1, 1])"
      ]
     },
     "execution_count": 4,
     "metadata": {},
     "output_type": "execute_result"
    }
   ],
   "source": [
    "kmeans = KMeans( init=\"random\",n_clusters=3,n_init=10, max_iter=300,random_state=42)\n",
    "kmeans.fit(scaled_features)\n",
    "kmeans.inertia_\n",
    "kmeans.labels_"
   ]
  },
  {
   "cell_type": "code",
   "execution_count": 5,
   "metadata": {
    "collapsed": false,
    "jupyter": {
     "outputs_hidden": false
    },
    "pycharm": {
     "name": "#%%\n"
    }
   },
   "outputs": [
    {
     "data": {
      "text/plain": [
       "KMeans(init='random', n_clusters=1, random_state=42)"
      ]
     },
     "execution_count": 5,
     "metadata": {},
     "output_type": "execute_result"
    },
    {
     "data": {
      "text/plain": [
       "KMeans(init='random', n_clusters=2, random_state=42)"
      ]
     },
     "execution_count": 5,
     "metadata": {},
     "output_type": "execute_result"
    },
    {
     "data": {
      "text/plain": [
       "KMeans(init='random', n_clusters=3, random_state=42)"
      ]
     },
     "execution_count": 5,
     "metadata": {},
     "output_type": "execute_result"
    },
    {
     "data": {
      "text/plain": [
       "KMeans(init='random', n_clusters=4, random_state=42)"
      ]
     },
     "execution_count": 5,
     "metadata": {},
     "output_type": "execute_result"
    },
    {
     "data": {
      "text/plain": [
       "KMeans(init='random', n_clusters=5, random_state=42)"
      ]
     },
     "execution_count": 5,
     "metadata": {},
     "output_type": "execute_result"
    },
    {
     "data": {
      "text/plain": [
       "KMeans(init='random', n_clusters=6, random_state=42)"
      ]
     },
     "execution_count": 5,
     "metadata": {},
     "output_type": "execute_result"
    },
    {
     "data": {
      "text/plain": [
       "KMeans(init='random', n_clusters=7, random_state=42)"
      ]
     },
     "execution_count": 5,
     "metadata": {},
     "output_type": "execute_result"
    },
    {
     "data": {
      "text/plain": [
       "KMeans(init='random', random_state=42)"
      ]
     },
     "execution_count": 5,
     "metadata": {},
     "output_type": "execute_result"
    },
    {
     "data": {
      "text/plain": [
       "KMeans(init='random', n_clusters=9, random_state=42)"
      ]
     },
     "execution_count": 5,
     "metadata": {},
     "output_type": "execute_result"
    },
    {
     "data": {
      "text/plain": [
       "KMeans(init='random', n_clusters=10, random_state=42)"
      ]
     },
     "execution_count": 5,
     "metadata": {},
     "output_type": "execute_result"
    },
    {
     "data": {
      "text/plain": [
       "KMeans(init='random', n_clusters=11, random_state=42)"
      ]
     },
     "execution_count": 5,
     "metadata": {},
     "output_type": "execute_result"
    },
    {
     "data": {
      "text/plain": [
       "KMeans(init='random', n_clusters=12, random_state=42)"
      ]
     },
     "execution_count": 5,
     "metadata": {},
     "output_type": "execute_result"
    },
    {
     "data": {
      "text/plain": [
       "KMeans(init='random', n_clusters=13, random_state=42)"
      ]
     },
     "execution_count": 5,
     "metadata": {},
     "output_type": "execute_result"
    },
    {
     "data": {
      "text/plain": [
       "KMeans(init='random', n_clusters=14, random_state=42)"
      ]
     },
     "execution_count": 5,
     "metadata": {},
     "output_type": "execute_result"
    },
    {
     "data": {
      "text/plain": [
       "KMeans(init='random', n_clusters=15, random_state=42)"
      ]
     },
     "execution_count": 5,
     "metadata": {},
     "output_type": "execute_result"
    },
    {
     "data": {
      "text/plain": [
       "KMeans(init='random', n_clusters=16, random_state=42)"
      ]
     },
     "execution_count": 5,
     "metadata": {},
     "output_type": "execute_result"
    },
    {
     "data": {
      "text/plain": [
       "KMeans(init='random', n_clusters=17, random_state=42)"
      ]
     },
     "execution_count": 5,
     "metadata": {},
     "output_type": "execute_result"
    },
    {
     "data": {
      "text/plain": [
       "KMeans(init='random', n_clusters=18, random_state=42)"
      ]
     },
     "execution_count": 5,
     "metadata": {},
     "output_type": "execute_result"
    },
    {
     "data": {
      "text/plain": [
       "KMeans(init='random', n_clusters=19, random_state=42)"
      ]
     },
     "execution_count": 5,
     "metadata": {},
     "output_type": "execute_result"
    },
    {
     "data": {
      "text/plain": [
       "[<matplotlib.lines.Line2D at 0x1b89bf1a0d0>]"
      ]
     },
     "execution_count": 5,
     "metadata": {},
     "output_type": "execute_result"
    },
    {
     "data": {
      "text/plain": [
       "([<matplotlib.axis.XTick at 0x1b89bed0e20>,\n",
       "  <matplotlib.axis.XTick at 0x1b89bed0df0>,\n",
       "  <matplotlib.axis.XTick at 0x1b89bed0520>,\n",
       "  <matplotlib.axis.XTick at 0x1b89bf1aa60>,\n",
       "  <matplotlib.axis.XTick at 0x1b89bf32250>,\n",
       "  <matplotlib.axis.XTick at 0x1b89bf329a0>,\n",
       "  <matplotlib.axis.XTick at 0x1b89bf38130>,\n",
       "  <matplotlib.axis.XTick at 0x1b89bf32970>,\n",
       "  <matplotlib.axis.XTick at 0x1b89bf380a0>,\n",
       "  <matplotlib.axis.XTick at 0x1b89bf38be0>,\n",
       "  <matplotlib.axis.XTick at 0x1b89bf40370>,\n",
       "  <matplotlib.axis.XTick at 0x1b89bf40ac0>,\n",
       "  <matplotlib.axis.XTick at 0x1b89bf46250>,\n",
       "  <matplotlib.axis.XTick at 0x1b89bf40df0>,\n",
       "  <matplotlib.axis.XTick at 0x1b89bf329d0>,\n",
       "  <matplotlib.axis.XTick at 0x1b89bf38460>,\n",
       "  <matplotlib.axis.XTick at 0x1b89bf46d00>,\n",
       "  <matplotlib.axis.XTick at 0x1b89bf4d490>,\n",
       "  <matplotlib.axis.XTick at 0x1b89bf4dbe0>],\n",
       " [Text(0, 0, ''),\n",
       "  Text(0, 0, ''),\n",
       "  Text(0, 0, ''),\n",
       "  Text(0, 0, ''),\n",
       "  Text(0, 0, ''),\n",
       "  Text(0, 0, ''),\n",
       "  Text(0, 0, ''),\n",
       "  Text(0, 0, ''),\n",
       "  Text(0, 0, ''),\n",
       "  Text(0, 0, ''),\n",
       "  Text(0, 0, ''),\n",
       "  Text(0, 0, ''),\n",
       "  Text(0, 0, ''),\n",
       "  Text(0, 0, ''),\n",
       "  Text(0, 0, ''),\n",
       "  Text(0, 0, ''),\n",
       "  Text(0, 0, ''),\n",
       "  Text(0, 0, ''),\n",
       "  Text(0, 0, '')])"
      ]
     },
     "execution_count": 5,
     "metadata": {},
     "output_type": "execute_result"
    },
    {
     "data": {
      "text/plain": [
       "Text(0.5, 0, 'Number of Clusters')"
      ]
     },
     "execution_count": 5,
     "metadata": {},
     "output_type": "execute_result"
    },
    {
     "data": {
      "text/plain": [
       "Text(0, 0.5, 'SSE')"
      ]
     },
     "execution_count": 5,
     "metadata": {},
     "output_type": "execute_result"
    },
    {
     "data": {
      "image/png": "[encoded data removed]",
      "text/plain": [
       "<Figure size 432x288 with 1 Axes>"
      ]
     },
     "metadata": {},
     "output_type": "display_data"
    },
    {
     "data": {
      "text/plain": [
       "5"
      ]
     },
     "execution_count": 5,
     "metadata": {},
     "output_type": "execute_result"
    }
   ],
   "source": [
    "#elbow method\n",
    "max_clusters = 20\n",
    "kmeans_kwargs = {\n",
    "    \"init\": \"random\",\n",
    "    \"n_init\": 10,\n",
    "    \"max_iter\": 300,\n",
    "    \"random_state\": 42,\n",
    "}\n",
    "\n",
    "# A list holds the SSE values for each k\n",
    "sse = []\n",
    "for k in range(1, max_clusters):\n",
    "    kmeans = KMeans(n_clusters=k, **kmeans_kwargs)\n",
    "    kmeans.fit(scaled_features)\n",
    "    sse.append(kmeans.inertia_)\n",
    "plt.style.use(\"fivethirtyeight\")\n",
    "plt.plot(range(1, max_clusters), sse)\n",
    "plt.xticks(range(1, max_clusters))\n",
    "plt.xlabel(\"Number of Clusters\")\n",
    "plt.ylabel(\"SSE\")\n",
    "plt.show()\n",
    "kl = KneeLocator(\n",
    "    range(1, max_clusters), sse, curve=\"convex\", direction=\"decreasing\"\n",
    ")\n",
    "\n",
    "kl.elbow"
   ]
  },
  {
   "cell_type": "code",
   "execution_count": 6,
   "metadata": {
    "collapsed": false,
    "jupyter": {
     "outputs_hidden": false
    },
    "pycharm": {
     "name": "#%%\n"
    }
   },
   "outputs": [
    {
     "data": {
      "text/plain": [
       "KMeans(init='random', n_clusters=7, random_state=42)"
      ]
     },
     "execution_count": 6,
     "metadata": {},
     "output_type": "execute_result"
    },
    {
     "data": {
      "text/plain": [
       "449.6468964084685"
      ]
     },
     "execution_count": 6,
     "metadata": {},
     "output_type": "execute_result"
    },
    {
     "data": {
      "text/plain": [
       "array([2, 2, 2, 2, 5, 6, 2, 2, 2, 2, 2, 5, 5, 5, 6, 6, 6, 2, 2, 2, 2, 2,\n",
       "       5, 5, 5, 5, 5, 6, 6, 6, 2, 2, 2, 2, 2, 5, 5, 5, 5, 5, 6, 6, 6, 6,\n",
       "       2, 2, 2, 2, 5, 5, 5, 5, 6, 5, 6, 6, 6, 2, 2, 2, 2, 2, 5, 5, 5, 5,\n",
       "       6, 6, 5, 6, 6, 2, 2, 2, 2, 2, 5, 5, 5, 5, 5, 6, 6, 6, 6, 2, 2, 2,\n",
       "       2, 2, 5, 5, 5, 5, 5, 6, 6, 6, 6, 2, 2, 2, 2, 2, 5, 5, 5, 5, 5, 6,\n",
       "       6, 6, 6, 2, 2, 2, 2, 2, 5, 5, 5, 5, 5, 6, 6, 6, 6, 2, 2, 2, 2, 2,\n",
       "       5, 5, 5, 5, 5, 5, 6, 6, 6, 2, 2, 2, 2, 2, 5, 5, 5, 5, 5, 6, 6, 6,\n",
       "       6, 2, 2, 2, 2, 2, 5, 5, 5, 5, 5, 5, 6, 6, 6, 2, 2, 2, 2, 2, 5, 5,\n",
       "       5, 5, 5, 6, 6, 6, 6, 2, 2, 2, 2, 2, 5, 5, 5, 5, 5, 5, 6, 6, 6, 2,\n",
       "       2, 2, 2, 2, 5, 5, 5, 5, 5, 5, 6, 6, 6, 2, 2, 2, 2, 5, 5, 5, 5, 5,\n",
       "       5, 6, 6, 6, 2, 2, 2, 2, 2, 5, 5, 5, 5, 5, 5, 6, 6, 6, 2, 2, 2, 2,\n",
       "       2, 5, 5, 5, 5, 5, 6, 6, 6, 2, 2, 2, 2, 2, 5, 5, 5, 5, 5, 5, 6, 6,\n",
       "       6, 2, 2, 2, 2, 2, 5, 5, 5, 5, 5, 6, 6, 3, 2, 2, 2, 2, 2, 5, 5, 5,\n",
       "       5, 5, 6, 6, 6, 6, 4, 2, 2, 2, 2, 2, 5, 5, 3, 5, 3, 6, 6, 6, 2, 2,\n",
       "       2, 2, 2, 5, 5, 3, 3, 3, 3, 6, 6, 6, 2, 2, 2, 2, 2, 3, 3, 3, 3, 3,\n",
       "       3, 6, 6, 2, 2, 2, 2, 2, 3, 3, 3, 3, 3, 3, 3, 1, 1, 4, 2, 2, 2, 0,\n",
       "       3, 3, 3, 3, 3, 3, 3, 1, 1, 2, 2, 0, 0, 0, 3, 3, 3, 3, 3, 3, 3, 1,\n",
       "       1, 4, 0, 0, 0, 0, 3, 3, 3, 3, 3, 3, 1, 3, 1, 0, 0, 0, 0, 0, 3, 3,\n",
       "       3, 3, 3, 1, 1, 1, 1, 0, 0, 0, 0, 0, 3, 3, 3, 3, 3, 3, 1, 1, 4, 0,\n",
       "       0, 0, 0, 3, 3, 3, 3, 3, 3, 1, 1, 1, 4, 0, 0, 0, 0, 0, 3, 3, 3, 3,\n",
       "       3, 3, 3, 1, 0, 0, 0, 0, 0, 3, 3, 3, 3, 3, 3, 3, 1, 1, 0, 0, 0, 0,\n",
       "       0, 3, 3, 3, 3, 3, 1, 1, 1, 0, 0, 0, 0, 0, 0, 3, 3, 3, 3, 3, 1, 1,\n",
       "       1, 0, 0, 0, 0, 0, 0, 3, 3, 3, 3, 3, 1, 1, 1, 0, 0, 0, 0, 0, 0, 3,\n",
       "       3, 3, 3, 1, 1, 1, 1, 4, 0, 0, 0, 0, 0, 3, 3, 3, 3, 3, 1, 1, 1, 0,\n",
       "       0, 0, 0, 0, 0, 3, 3, 3, 3, 1, 1, 1, 1, 4, 0, 0, 0, 0, 0, 3, 3, 3,\n",
       "       3, 3, 1, 1, 1, 0, 0, 0, 0, 0, 0, 3, 3, 3, 3, 3, 1, 1, 1, 4, 0, 0,\n",
       "       0, 0, 0, 0, 3, 3, 3, 1, 1, 1, 1, 0, 0, 0, 0, 0, 0, 3, 3, 3, 3, 3,\n",
       "       1, 1, 1, 0, 0, 0, 0, 0, 0, 3, 3, 3, 3, 1, 1, 1, 0, 0, 0, 0, 0, 0,\n",
       "       0, 3, 3, 1, 3, 1, 1, 1, 0, 0, 0, 0, 0, 0, 3, 3, 3, 3, 1, 1, 1, 0,\n",
       "       0, 0, 0, 0, 0, 0, 3, 3, 3, 3, 1, 1, 1, 0, 0, 0, 0, 0, 0, 0, 3, 1,\n",
       "       1, 1, 1, 0, 0, 0, 0, 0, 0, 0, 1, 3, 1, 4, 0, 0, 0, 0, 0, 0, 1, 4,\n",
       "       0, 0, 4])"
      ]
     },
     "execution_count": 6,
     "metadata": {},
     "output_type": "execute_result"
    },
    {
     "data": {
      "text/plain": [
       "KMeans(init='random', n_clusters=10, random_state=42)"
      ]
     },
     "execution_count": 6,
     "metadata": {},
     "output_type": "execute_result"
    },
    {
     "data": {
      "text/plain": [
       "320.5119450758736"
      ]
     },
     "execution_count": 6,
     "metadata": {},
     "output_type": "execute_result"
    },
    {
     "data": {
      "text/plain": [
       "array([2, 2, 2, 2, 2, 6, 2, 2, 2, 2, 2, 2, 2, 1, 6, 6, 6, 2, 2, 2, 2, 2,\n",
       "       2, 2, 3, 3, 3, 6, 6, 6, 2, 2, 2, 2, 2, 2, 3, 3, 3, 3, 6, 6, 6, 6,\n",
       "       2, 2, 2, 2, 2, 3, 3, 3, 6, 3, 6, 6, 6, 2, 2, 2, 2, 2, 2, 3, 3, 3,\n",
       "       6, 6, 3, 6, 6, 1, 2, 2, 2, 2, 2, 3, 3, 3, 3, 6, 6, 6, 6, 2, 2, 2,\n",
       "       2, 2, 2, 3, 3, 3, 3, 6, 6, 6, 6, 1, 2, 2, 2, 2, 2, 3, 3, 3, 3, 6,\n",
       "       6, 6, 6, 2, 2, 2, 2, 2, 2, 3, 3, 3, 3, 6, 6, 6, 6, 1, 2, 2, 2, 2,\n",
       "       2, 3, 3, 3, 3, 3, 6, 6, 6, 2, 2, 2, 2, 2, 3, 3, 3, 3, 3, 6, 6, 6,\n",
       "       6, 1, 2, 2, 2, 2, 2, 3, 3, 3, 3, 3, 6, 6, 6, 2, 2, 2, 2, 2, 3, 3,\n",
       "       3, 3, 3, 6, 6, 6, 6, 1, 2, 2, 2, 2, 2, 3, 3, 3, 3, 3, 6, 6, 6, 2,\n",
       "       2, 2, 2, 2, 3, 3, 3, 3, 3, 3, 6, 6, 6, 2, 2, 2, 2, 8, 3, 3, 3, 3,\n",
       "       3, 6, 6, 6, 2, 8, 8, 8, 8, 3, 3, 3, 3, 3, 3, 6, 6, 6, 8, 8, 8, 8,\n",
       "       8, 3, 3, 3, 3, 0, 6, 6, 6, 8, 8, 8, 8, 8, 8, 3, 3, 3, 3, 0, 0, 0,\n",
       "       6, 8, 8, 8, 8, 8, 3, 3, 3, 3, 3, 0, 6, 0, 8, 8, 8, 8, 8, 8, 3, 3,\n",
       "       3, 3, 0, 6, 6, 6, 4, 8, 8, 8, 8, 8, 8, 3, 0, 3, 3, 6, 6, 6, 8, 8,\n",
       "       8, 8, 8, 8, 3, 3, 3, 3, 0, 0, 6, 6, 8, 8, 8, 8, 8, 8, 3, 0, 3, 3,\n",
       "       3, 0, 6, 8, 8, 8, 8, 8, 8, 8, 3, 3, 3, 0, 0, 7, 7, 4, 8, 8, 8, 8,\n",
       "       8, 8, 9, 0, 3, 0, 0, 0, 7, 8, 8, 8, 8, 8, 8, 8, 0, 9, 9, 0, 0, 7,\n",
       "       7, 4, 8, 8, 8, 8, 8, 8, 9, 0, 9, 0, 0, 0, 7, 8, 8, 8, 8, 8, 8, 9,\n",
       "       0, 9, 9, 0, 7, 7, 7, 8, 8, 8, 8, 8, 9, 9, 9, 9, 0, 0, 7, 7, 4, 8,\n",
       "       8, 8, 8, 8, 9, 9, 9, 9, 0, 0, 7, 7, 4, 8, 8, 8, 8, 8, 9, 9, 9, 9,\n",
       "       9, 0, 0, 7, 5, 5, 8, 8, 8, 9, 9, 9, 9, 9, 0, 0, 7, 7, 5, 5, 5, 8,\n",
       "       9, 9, 9, 9, 9, 0, 0, 7, 7, 5, 5, 5, 5, 5, 9, 9, 9, 9, 9, 0, 7, 7,\n",
       "       7, 5, 5, 5, 5, 5, 9, 9, 9, 9, 9, 0, 0, 7, 7, 5, 5, 5, 5, 5, 9, 9,\n",
       "       9, 9, 9, 0, 7, 7, 7, 4, 5, 5, 5, 5, 5, 9, 9, 9, 9, 0, 7, 7, 7, 5,\n",
       "       5, 5, 5, 5, 9, 9, 9, 9, 9, 0, 7, 7, 7, 4, 5, 5, 5, 5, 5, 9, 9, 9,\n",
       "       9, 9, 0, 7, 7, 5, 5, 5, 5, 5, 9, 9, 9, 9, 9, 0, 7, 7, 7, 4, 5, 5,\n",
       "       5, 5, 5, 9, 9, 9, 9, 7, 7, 7, 7, 5, 5, 5, 5, 5, 9, 9, 9, 9, 0, 9,\n",
       "       7, 7, 7, 5, 5, 5, 5, 5, 9, 9, 9, 9, 9, 7, 7, 7, 5, 5, 5, 5, 5, 9,\n",
       "       9, 9, 9, 7, 9, 7, 7, 7, 5, 5, 5, 5, 5, 9, 9, 9, 9, 9, 7, 7, 7, 5,\n",
       "       5, 5, 5, 5, 9, 9, 9, 9, 9, 9, 7, 7, 7, 5, 5, 5, 5, 5, 5, 9, 9, 7,\n",
       "       7, 7, 7, 5, 5, 5, 5, 5, 5, 9, 7, 9, 7, 4, 5, 5, 5, 5, 5, 9, 7, 4,\n",
       "       5, 5, 4])"
      ]
     },
     "execution_count": 6,
     "metadata": {},
     "output_type": "execute_result"
    }
   ],
   "source": [
    "kmeans = KMeans( init=\"random\",n_clusters=7,n_init=10, max_iter=300,random_state=42)\n",
    "kmeans.fit(scaled_features)\n",
    "kmeans.inertia_\n",
    "kmeans.labels_\n",
    "play_by_play_season_bins_copy['cluster'] = kmeans.labels_\n",
    "play_by_play_season_bins_copy.to_csv(\"cleanedData/play_by_play_season_bins_clustered.csv\")\n",
    "\n",
    "kmeans = KMeans( init=\"random\",n_clusters=10,n_init=10, max_iter=300,random_state=42)\n",
    "kmeans.fit(scaled_features)\n",
    "kmeans.inertia_\n",
    "kmeans.labels_\n",
    "play_by_play_season_bins_copy['cluster'] = kmeans.labels_\n",
    "play_by_play_season_bins_copy.to_csv(\"cleanedData/play_by_play_season_bins_clustered_10.csv\")"
   ]
  },
  {
   "cell_type": "code",
   "execution_count": null,
   "metadata": {
    "collapsed": false,
    "jupyter": {
     "outputs_hidden": false
    },
    "pycharm": {
     "name": "#%%\n"
    }
   },
   "outputs": [],
   "source": []
  }
 ],
 "metadata": {
  "kernelspec": {
   "display_name": "PyCharm (shot_chart)",
   "language": "python",
   "name": "pycharm-d2ed50fc"
  },
  "language_info": {
   "codemirror_mode": {
    "name": "ipython",
    "version": 3
   },
   "file_extension": ".py",
   "mimetype": "text/x-python",
   "name": "python",
   "nbconvert_exporter": "python",
   "pygments_lexer": "ipython3",
   "version": "3.9.0"
  }
 },
 "nbformat": 4,
 "nbformat_minor": 4
}
